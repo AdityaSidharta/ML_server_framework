{
 "cells": [
  {
   "cell_type": "code",
   "execution_count": 1,
   "metadata": {},
   "outputs": [
    {
     "name": "stdout",
     "output_type": "stream",
     "text": [
      "/mnt/nvme0n1p3/ML_server_framework\n",
      "env: PYTHONPATH=/home/aditya/extrahd/ML_server_framework\n",
      "env: PROJECT_PATH=/home/aditya/extrahd/ML_server_framework\n",
      "env: POSTGRES_USERNAME=ml_server_postgres\n",
      "env: POSTGRES_PASSWORD=ml_server_password\n",
      "env: POSTGRES_IPADDRESS=localhost\n",
      "env: POSTGRES_PORT=5432\n"
     ]
    }
   ],
   "source": [
    "%load_ext autoreload\n",
    "%autoreload 2\n",
    "%cd /home/aditya/extrahd/ML_server_framework\n",
    "%env PYTHONPATH = /home/aditya/extrahd/ML_server_framework\n",
    "%env PROJECT_PATH = /home/aditya/extrahd/ML_server_framework\n",
    "%env POSTGRES_USERNAME=ml_server_postgres\n",
    "%env POSTGRES_PASSWORD=ml_server_password\n",
    "%env POSTGRES_IPADDRESS=localhost\n",
    "%env POSTGRES_PORT=5432"
   ]
  },
  {
   "cell_type": "code",
   "execution_count": 2,
   "metadata": {},
   "outputs": [],
   "source": [
    "import numpy as np\n",
    "import pandas as pd\n",
    "from src.utils.envs import *\n",
    "from src.utils.io import *\n",
    "from src.utils.ds import *\n",
    "from src.components.api import Api\n",
    "from src.components.schema import Schema"
   ]
  },
  {
   "cell_type": "code",
   "execution_count": null,
   "metadata": {},
   "outputs": [],
   "source": [
    "from src.data_prep.prep_titanic import do_format, do_fill_na_value\n",
    "from src.feat_eng.feat_eng_titanic import do_encode, create_encoder_titanic\n",
    "from src.ml_model.ml_model_titanic import create_model_titanic\n",
    "from src.utils.ds import split_target_columns"
   ]
  },
  {
   "cell_type": "code",
   "execution_count": null,
   "metadata": {},
   "outputs": [],
   "source": [
    "df_full = read_data('titanic')"
   ]
  },
  {
   "cell_type": "code",
   "execution_count": null,
   "metadata": {},
   "outputs": [],
   "source": [
    "#schema = Schema()\n",
    "#schema.infer_schema(df_full)\n",
    "#schema.write_schema(titanic_schema_path)"
   ]
  },
  {
   "cell_type": "code",
   "execution_count": null,
   "metadata": {},
   "outputs": [],
   "source": [
    "input_df = pd.DataFrame({\n",
    "    'class': [1],\n",
    "    'sex': ['male'],\n",
    "    'age' : 10.,\n",
    "    'embarked': ['D']\n",
    "})"
   ]
  },
  {
   "cell_type": "code",
   "execution_count": null,
   "metadata": {},
   "outputs": [],
   "source": [
    "api = Api(titanic_schema_path, titanic_encoder_path, titanic_model_path)"
   ]
  },
  {
   "cell_type": "code",
   "execution_count": null,
   "metadata": {},
   "outputs": [],
   "source": [
    "api.fit_api(df_full)"
   ]
  },
  {
   "cell_type": "code",
   "execution_count": null,
   "metadata": {},
   "outputs": [],
   "source": [
    "api.load_api()"
   ]
  },
  {
   "cell_type": "code",
   "execution_count": null,
   "metadata": {},
   "outputs": [],
   "source": [
    "api.predict_api(input_df)"
   ]
  }
 ],
 "metadata": {
  "kernelspec": {
   "display_name": "ml_server_framework",
   "language": "python",
   "name": "ml_server_framework"
  },
  "language_info": {
   "codemirror_mode": {
    "name": "ipython",
    "version": 3
   },
   "file_extension": ".py",
   "mimetype": "text/x-python",
   "name": "python",
   "nbconvert_exporter": "python",
   "pygments_lexer": "ipython3",
   "version": "3.6.7"
  }
 },
 "nbformat": 4,
 "nbformat_minor": 2
}
