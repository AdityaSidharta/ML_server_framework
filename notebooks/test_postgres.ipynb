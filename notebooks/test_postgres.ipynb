{
 "cells": [
  {
   "cell_type": "code",
   "execution_count": null,
   "metadata": {},
   "outputs": [],
   "source": [
    "%load_ext autoreload\n",
    "%autoreload 2\n",
    "%cd /home/aditya/extrahd/ML_server_framework\n",
    "%env PYTHONPATH = /home/aditya/extrahd/ML_server_framework\n",
    "%env PROJECT_PATH = /home/aditya/extrahd/ML_server_framework\n",
    "%env POSTGRES_USERNAME=ml_server_postgres\n",
    "%env POSTGRES_PASSWORD=ml_server_password\n",
    "%env POSTGRES_IPADDRESS=localhost\n",
    "%env POSTGRES_PORT=5432"
   ]
  },
  {
   "cell_type": "code",
   "execution_count": null,
   "metadata": {},
   "outputs": [],
   "source": [
    "from src.utils.envs import titanic_filename, postgres_ipaddress, postgres_password, postgres_port, postgres_username\n",
    "from src.utils.io import read_data, write_db, create_db_connection"
   ]
  },
  {
   "cell_type": "code",
   "execution_count": null,
   "metadata": {},
   "outputs": [],
   "source": [
    "connection = create_db_connection(postgres_username, postgres_password, postgres_ipaddress, postgres_port)"
   ]
  },
  {
   "cell_type": "code",
   "execution_count": null,
   "metadata": {},
   "outputs": [],
   "source": [
    "df_full = read_data(titanic_filename)"
   ]
  },
  {
   "cell_type": "code",
   "execution_count": null,
   "metadata": {},
   "outputs": [],
   "source": [
    "write_db(df_full, titanic_filename, connection)"
   ]
  },
  {
   "cell_type": "code",
   "execution_count": null,
   "metadata": {},
   "outputs": [],
   "source": []
  }
 ],
 "metadata": {
  "kernelspec": {
   "display_name": "ml_server_framework",
   "language": "python",
   "name": "ml_server_framework"
  },
  "language_info": {
   "codemirror_mode": {
    "name": "ipython",
    "version": 3
   },
   "file_extension": ".py",
   "mimetype": "text/x-python",
   "name": "python",
   "nbconvert_exporter": "python",
   "pygments_lexer": "ipython3",
   "version": "3.6.7"
  }
 },
 "nbformat": 4,
 "nbformat_minor": 2
}
