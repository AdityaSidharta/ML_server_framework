{
 "cells": [
  {
   "cell_type": "code",
   "execution_count": null,
   "metadata": {},
   "outputs": [],
   "source": [
    "%load_ext autoreload\n",
    "%autoreload 2\n",
    "%cd /home/adityasidharta/git/ML_server_framework\n",
    "%env PYTHONPATH = /home/adityasidharta/git/ML_server_framework\n",
    "%env PROJECT_PATH = /home/adityasidharta/git/ML_server_framework\n",
    "%env POSTGRES_USERNAME=ml_server_postgres\n",
    "%env POSTGRES_PASSWORD=ml_server_password\n",
    "%env POSTGRES_IPADDRESS=localhost\n",
    "%env POSTGRES_PORT=5432\n",
    "%env MINIO_ACCESS_KEY=ml_server_minio\n",
    "%env MINIO_SECRET_KEY=ml_server_password\n",
    "%env MINIO_PORT=9000"
   ]
  },
  {
   "cell_type": "code",
   "execution_count": null,
   "metadata": {},
   "outputs": [],
   "source": [
    "from sklearn.linear_model import LinearRegression"
   ]
  },
  {
   "cell_type": "code",
   "execution_count": null,
   "metadata": {},
   "outputs": [],
   "source": [
    "import pandas as pd\n",
    "import numpy as np"
   ]
  },
  {
   "cell_type": "code",
   "execution_count": null,
   "metadata": {},
   "outputs": [],
   "source": [
    "from sklearn.externals import joblib\n",
    "from src.utils.envs import titanic_filename, postgres_ipaddress, postgres_password, postgres_port, postgres_username\n",
    "from src.utils.io import read_data"
   ]
  },
  {
   "cell_type": "code",
   "execution_count": null,
   "metadata": {},
   "outputs": [],
   "source": [
    "db_engine, db_connection = create_db(postgres_username, postgres_password, postgres_ipaddress, postgres_port)"
   ]
  },
  {
   "cell_type": "code",
   "execution_count": null,
   "metadata": {},
   "outputs": [],
   "source": [
    "df_full = read_data(titanic_filename)"
   ]
  },
  {
   "cell_type": "code",
   "execution_count": null,
   "metadata": {},
   "outputs": [],
   "source": [
    "write_db(df_full, titanic_filename, db_connection)"
   ]
  },
  {
   "cell_type": "code",
   "execution_count": null,
   "metadata": {},
   "outputs": [],
   "source": []
  }
 ],
 "metadata": {
  "kernelspec": {
   "display_name": "ml_server_framework",
   "language": "python",
   "name": "ml_server_framework"
  },
  "language_info": {
   "codemirror_mode": {
    "name": "ipython",
    "version": 3
   },
   "file_extension": ".py",
   "mimetype": "text/x-python",
   "name": "python",
   "nbconvert_exporter": "python",
   "pygments_lexer": "ipython3",
   "version": "3.6.7"
  }
 },
 "nbformat": 4,
 "nbformat_minor": 2
}
