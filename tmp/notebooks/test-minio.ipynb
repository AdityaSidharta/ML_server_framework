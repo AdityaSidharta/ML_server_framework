{
 "cells": [
  {
   "cell_type": "code",
   "execution_count": null,
   "metadata": {},
   "outputs": [],
   "source": [
    "%load_ext autoreload\n",
    "%autoreload 2\n",
    "%cd /home/adityasidharta/git/ML_server_framework\n",
    "%env PYTHONPATH = /home/adityasidharta/git/ML_server_framework\n",
    "%env PROJECT_PATH = /home/adityasidharta/git/ML_server_framework\n",
    "%env POSTGRES_USERNAME=ml_server_postgres\n",
    "%env POSTGRES_PASSWORD=ml_server_password\n",
    "%env POSTGRES_IPADDRESS=localhost\n",
    "%env POSTGRES_PORT=5432\n",
    "%env MINIO_ACCESS_KEY=ml_server_minio\n",
    "%env MINIO_SECRET_KEY=ml_server_password\n",
    "%env MINIO_PORT=9000"
   ]
  },
  {
   "cell_type": "code",
   "execution_count": null,
   "metadata": {},
   "outputs": [],
   "source": [
    "from src.utils.envs import (\n",
    "    titanic_filename, titanic_schema_filename, titanic_schema_bucket, db_connection, minio_client, titanic_schema_path, data_path\n",
    ")\n",
    "from src.utils.io import read_data, write_db, write_minio, download_minio\n"
   ]
  },
  {
   "cell_type": "code",
   "execution_count": null,
   "metadata": {},
   "outputs": [],
   "source": [
    "write_minio(titanic_schema_path, minio_client, titanic_schema_bucket, titanic_schema_filename)"
   ]
  },
  {
   "cell_type": "code",
   "execution_count": null,
   "metadata": {},
   "outputs": [],
   "source": [
    "titanic_schema_filename"
   ]
  },
  {
   "cell_type": "code",
   "execution_count": null,
   "metadata": {},
   "outputs": [],
   "source": [
    "download_minio(minio_client, titanic_schema_bucket, titanic_schema_filename)"
   ]
  },
  {
   "cell_type": "code",
   "execution_count": null,
   "metadata": {},
   "outputs": [],
   "source": [
    "schema_yml = read_data(titanic_schema_filename)"
   ]
  },
  {
   "cell_type": "code",
   "execution_count": null,
   "metadata": {},
   "outputs": [],
   "source": [
    "minioClient.make_bucket(\"cuki\")"
   ]
  }
 ],
 "metadata": {
  "kernelspec": {
   "display_name": "ml_server_framework",
   "language": "python",
   "name": "ml_server_framework"
  },
  "language_info": {
   "codemirror_mode": {
    "name": "ipython",
    "version": 3
   },
   "file_extension": ".py",
   "mimetype": "text/x-python",
   "name": "python",
   "nbconvert_exporter": "python",
   "pygments_lexer": "ipython3",
   "version": "3.6.7"
  }
 },
 "nbformat": 4,
 "nbformat_minor": 2
}
